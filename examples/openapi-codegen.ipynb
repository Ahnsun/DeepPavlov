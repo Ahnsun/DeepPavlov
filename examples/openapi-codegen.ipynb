{
  "nbformat": 4,
  "nbformat_minor": 0,
  "metadata": {
    "colab": {
      "name": "OpenAPI codegen.ipynb",
      "provenance": [],
      "authorship_tag": "ABX9TyOaaqTwQVxPf71jZdZFvuIq",
      "include_colab_link": true
    },
    "kernelspec": {
      "name": "python3",
      "display_name": "Python 3"
    },
    "language_info": {
      "name": "python"
    }
  },
  "cells": [
    {
      "cell_type": "markdown",
      "metadata": {
        "id": "view-in-github",
        "colab_type": "text"
      },
      "source": [
        "<a href=\"https://colab.research.google.com/gist/oserikov/3c6e277e4da64404e898ace122b65b70/openapi-codegen.ipynb\" target=\"_parent\"><img src=\"https://colab.research.google.com/assets/colab-badge.svg\" alt=\"Open In Colab\"/></a>"
      ]
    },
    {
      "cell_type": "code",
      "metadata": {
        "id": "oHZSdwcCYzgK"
      },
      "source": [
        "!pip install git+https://github.com/deepmipt/DeepPavlov.git@openapi_integration docstring_parser  pytablereader "
      ],
      "execution_count": null,
      "outputs": []
    },
    {
      "cell_type": "code",
      "metadata": {
        "id": "eE_4_unLYE7m"
      },
      "source": [
        "import re\n",
        "from deeppavlov.core.data.utils import download_decompress\n",
        "from docstring_parser import parse\n",
        "import pytablereader as ptr\n",
        "import requests\n",
        "from collections import defaultdict\n",
        "import importlib.util\n",
        "import sys\n",
        "import os\n",
        "import inspect\n",
        "from pprint import pprint"
      ],
      "execution_count": 2,
      "outputs": []
    },
    {
      "cell_type": "code",
      "metadata": {
        "id": "OUrEwB1bYSRS"
      },
      "source": [
        "# pass the desired openapi endpoint\n",
        "OPENAPI_URL = \"https://api.apis.guru/v2/specs/jokes.one/1.1/swagger.json\"\n",
        "\n",
        "# swagger codegen to build python api for the openapi documented api\n",
        "swagger_generator_endpoint = \"https://generator.swagger.io/api/gen/clients/python\"\n",
        "\n",
        "# saving config\n",
        "save_path = \"save_path\"\n",
        "load_path = save_path"
      ],
      "execution_count": 3,
      "outputs": []
    },
    {
      "cell_type": "markdown",
      "metadata": {
        "id": "Z7wmUwE0cIfs"
      },
      "source": [
        "download codegenerated module"
      ]
    },
    {
      "cell_type": "code",
      "metadata": {
        "colab": {
          "base_uri": "https://localhost:8080/"
        },
        "id": "yuWdWkMVYvVe",
        "outputId": "a8f6cb10-e719-4789-9ff4-2b7df9ec9737"
      },
      "source": [
        "packageName = \"openapi_client_codegen\"\n",
        "res = requests.post(swagger_generator_endpoint, json={\"swaggerUrl\": OPENAPI_URL,\n",
        "                                                      \"options\": {\"packageName\": packageName}})\n",
        "\n",
        "if str(res.status_code).startswith('2'):\n",
        "    endpoint_sdk_zip_url = res.json().get(\"link\")\n",
        "    download_decompress(endpoint_sdk_zip_url, save_path, archive_type='zip')"
      ],
      "execution_count": 4,
      "outputs": [
        {
          "output_type": "stream",
          "text": [
            "2021-03-23 05:30:51.355 INFO in 'deeppavlov.core.data.utils'['utils'] at line 94: Downloading from https://generator.swagger.io/api/gen/download/545680c5-729c-4144-9c27-2cbfeab7c66e to save_path/545680c5-729c-4144-9c27-2cbfeab7c66e\n",
            "100%|██████████| 44.1k/44.1k [00:00<00:00, 2.20MB/s]\n",
            "2021-03-23 05:30:51.457 INFO in 'deeppavlov.core.data.utils'['utils'] at line 272: Extracting save_path/545680c5-729c-4144-9c27-2cbfeab7c66e archive into save_path\n"
          ],
          "name": "stderr"
        }
      ]
    },
    {
      "cell_type": "markdown",
      "metadata": {
        "id": "T8eAXxKtcLMH"
      },
      "source": [
        "read module docs and take all the api functions from here"
      ]
    },
    {
      "cell_type": "code",
      "metadata": {
        "id": "1rsXcPyyim3L"
      },
      "source": [
        "md_path = f\"{save_path}/python-client/README.md\"\n",
        "\n",
        "docs_md_tables_reader = ptr.TableFileLoader(md_path, format_name=\"markdown\")\n",
        "docs_md_tables = docs_md_tables_reader.load()\n",
        "tables = []\n",
        "for table in docs_md_tables:\n",
        "    table = [dict(zip(table.headers, row)) for row in table.rows]\n",
        "    tables.append(table)\n",
        "\n",
        "func_name2class = defaultdict(list)\n",
        "for table in tables:\n",
        "    table_classes = {t[\"Class\"] for t in table}\n",
        "    for t in table:\n",
        "        func_name2class[t[\"Method\"]].append(t[\"Class\"])\n",
        "\n",
        "func_name2class = dict(func_name2class)"
      ],
      "execution_count": 5,
      "outputs": []
    },
    {
      "cell_type": "code",
      "metadata": {
        "colab": {
          "base_uri": "https://localhost:8080/"
        },
        "id": "vNGhQpxEjCm3",
        "outputId": "e451e861-6d2b-496c-9087-964f3df2333d"
      },
      "source": [
        "func_name2class"
      ],
      "execution_count": 6,
      "outputs": [
        {
          "output_type": "execute_result",
          "data": {
            "text/plain": [
              "{'jod_categories_get': ['JodApi'],\n",
              " 'jod_get': ['JodApi'],\n",
              " 'joke_categories_search_get': ['JokeApi'],\n",
              " 'joke_delete': ['JokeApi'],\n",
              " 'joke_get': ['JokeApi'],\n",
              " 'joke_list_get': ['JokeApi'],\n",
              " 'joke_patch': ['JokeApi'],\n",
              " 'joke_put': ['JokeApi'],\n",
              " 'joke_random_get': ['JokeApi'],\n",
              " 'joke_search_get': ['JokeApi'],\n",
              " 'joke_tags_add_post': ['JokeApi'],\n",
              " 'joke_tags_remove_post': ['JokeApi']}"
            ]
          },
          "metadata": {
            "tags": []
          },
          "execution_count": 6
        }
      ]
    },
    {
      "cell_type": "markdown",
      "metadata": {
        "id": "WEamEJohjrkz"
      },
      "source": [
        "parse module content to load all the API functions and have them available by name"
      ]
    },
    {
      "cell_type": "code",
      "metadata": {
        "id": "BzMyeOjzcKsp"
      },
      "source": [
        "plk_dir = f\"{save_path}/python-client\"\n",
        "pkg_dir = f\"{plk_dir}/{packageName}\"\n",
        "apimodule_name = \"api\"\n",
        "api_dir = f\"{plk_dir}/{apimodule_name}/\"\n",
        "sys.path = [plk_dir, pkg_dir] + sys.path\n",
        "\n",
        "bad_params = [\"async_req\"]  # smth added by codegen api, this param complicates everything\n",
        "\n",
        "api_module = importlib.import_module('api', package=packageName)\n",
        "func_infos = dict()\n",
        "for api_module_elem_name, api_module_elem in api_module.__dict__.items():\n",
        "    if inspect.isclass(api_module_elem):\n",
        "        api_module_submodule = api_module_elem()\n",
        "        for func_name, func_val in inspect.getmembers(api_module_submodule):\n",
        "            if func_name.startswith(\"__\") and func_name.endswith(\"__\"):\n",
        "                # skip dunders cause they're unlikely to be apis\n",
        "                continue\n",
        "            if callable(func_val):\n",
        "                func_doc = func_val.__doc__  # get the docstring from the codegenerated example\n",
        "                if func_doc:\n",
        "                    func_doc = re.sub(r'.+:param\\s+async_req\\s+bool.*', '', func_doc)  # remove codegenerated bad_param docstring\n",
        "                func_doc_parsed = parse(func_doc)\n",
        "                func_params = [param for param in func_doc_parsed.params if param not in bad_params]\n",
        "                func_info = {\n",
        "                    \"module\": api_module,\n",
        "                    \"func\": func_val,\n",
        "                    \"params\": func_params,\n",
        "                    \"params_di\": [fp.__dict__ for fp in func_params]\n",
        "                }\n",
        "                func_infos[func_name] = func_info"
      ],
      "execution_count": 7,
      "outputs": []
    },
    {
      "cell_type": "code",
      "metadata": {
        "colab": {
          "base_uri": "https://localhost:8080/"
        },
        "id": "wTx6XvvzcVbq",
        "outputId": "c648e702-fc86-4e4e-c2bc-563e2b33ff3a"
      },
      "source": [
        "some_funcs_to_take_a_look_at = {k: func_infos[k] for k_ix, k in enumerate(func_infos) if k_ix < 4}\n",
        "pprint(some_funcs_to_take_a_look_at, width=120, compact=True)"
      ],
      "execution_count": 8,
      "outputs": [
        {
          "output_type": "stream",
          "text": [
            "{'jod_categories_get': {'func': <bound method JodApi.jod_categories_get of <openapi_client_codegen.api.jod_api.JodApi object at 0x7f2311b02cd0>>,\n",
            "                        'module': <module 'api' from 'save_path/python-client/openapi_client_codegen/api/__init__.py'>,\n",
            "                        'params': [],\n",
            "                        'params_di': []},\n",
            " 'jod_categories_get_with_http_info': {'func': <bound method JodApi.jod_categories_get_with_http_info of <openapi_client_codegen.api.jod_api.JodApi object at 0x7f2311b02cd0>>,\n",
            "                                       'module': <module 'api' from 'save_path/python-client/openapi_client_codegen/api/__init__.py'>,\n",
            "                                       'params': [],\n",
            "                                       'params_di': []},\n",
            " 'jod_get': {'func': <bound method JodApi.jod_get of <openapi_client_codegen.api.jod_api.JodApi object at 0x7f2311b02cd0>>,\n",
            "             'module': <module 'api' from 'save_path/python-client/openapi_client_codegen/api/__init__.py'>,\n",
            "             'params': [<docstring_parser.common.DocstringParam object at 0x7f2311be0a90>],\n",
            "             'params_di': [{'arg_name': 'category',\n",
            "                            'args': ['param', 'str', 'category'],\n",
            "                            'default': None,\n",
            "                            'description': 'JOD Category',\n",
            "                            'is_optional': False,\n",
            "                            'type_name': 'str'}]},\n",
            " 'jod_get_with_http_info': {'func': <bound method JodApi.jod_get_with_http_info of <openapi_client_codegen.api.jod_api.JodApi object at 0x7f2311b02cd0>>,\n",
            "                            'module': <module 'api' from 'save_path/python-client/openapi_client_codegen/api/__init__.py'>,\n",
            "                            'params': [<docstring_parser.common.DocstringParam object at 0x7f2311be0a50>],\n",
            "                            'params_di': [{'arg_name': 'category',\n",
            "                                           'args': ['param', 'str', 'category'],\n",
            "                                           'default': None,\n",
            "                                           'description': 'JOD Category',\n",
            "                                           'is_optional': False,\n",
            "                                           'type_name': 'str'}]}}\n"
          ],
          "name": "stdout"
        }
      ]
    },
    {
      "cell_type": "code",
      "metadata": {
        "colab": {
          "base_uri": "https://localhost:8080/"
        },
        "id": "74Zm3tlJdvjl",
        "outputId": "b9455f06-edb8-4d29-d388-6c151239781a"
      },
      "source": [
        "func_infos[\"jod_get\"][\"func\"](category=\"jod\")"
      ],
      "execution_count": 9,
      "outputs": [
        {
          "output_type": "execute_result",
          "data": {
            "text/plain": [
              "{'contents': {'copyright': '2019-20 https://jokes.one',\n",
              "              'jokes': [{'background': '',\n",
              "                         'category': 'jod',\n",
              "                         'date': '2021-03-23',\n",
              "                         'description': 'Joke of the day ',\n",
              "                         'joke': {'clean': '0',\n",
              "                                  'date': '2021-03-23',\n",
              "                                  'id': 'I5ljXf1MiMj2Mix0T23CdQeF',\n",
              "                                  'lang': 'en',\n",
              "                                  'length': '57',\n",
              "                                  'racial': '0',\n",
              "                                  'text': 'What is wrong with Polish snow '\n",
              "                                          'tires?\\r\\n'\n",
              "                                          '\\r\\n'\n",
              "                                          '\\r\\n'\n",
              "                                          'They melt.\\r\\n'\n",
              "                                          '\\r\\n',\n",
              "                                  'title': 'What is wrong with Polish snow '\n",
              "                                           'tires?'},\n",
              "                         'language': 'en'}]},\n",
              " 'success': \"{'total': 1}\"}"
            ]
          },
          "metadata": {
            "tags": []
          },
          "execution_count": 9
        }
      ]
    }
  ]
}